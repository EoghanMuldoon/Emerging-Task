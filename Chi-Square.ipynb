{
 "cells": [
  {
   "cell_type": "code",
   "execution_count": 1,
   "metadata": {},
   "outputs": [
    {
     "name": "stdout",
     "output_type": "stream",
     "text": [
      "24.6\n"
     ]
    }
   ],
   "source": [
    "def chi():\n",
    "    WA=90\n",
    "    BA=30\n",
    "    NA=30\n",
    "\n",
    "    WB=60\n",
    "    BB=50\n",
    "    NB=40\n",
    "\n",
    "    WC=104\n",
    "    BC=51\n",
    "    NC=45\n",
    "\n",
    "    WD=95\n",
    "    BD=20\n",
    "    ND=35\n",
    "\n",
    "    totalWhite=WA+WB+WC+WD\n",
    "    totalBlue=BA+BB+BC+BD\n",
    "    totalNo=NA+NB+NC+ND\n",
    "\n",
    "    totalA=WA+BA+NA\n",
    "    totalB=WB+BB+NB\n",
    "    totalC=WC+BC+NC\n",
    "    totalD=WD+BD+ND\n",
    "\n",
    "    completTotal=totalWhite+totalBlue+totalNo\n",
    "\n",
    "    expeectedWhiteA= totalA *(totalWhite/completTotal)\n",
    "    expeectedWhiteB= totalB *(totalWhite/completTotal)\n",
    "    expeectedWhiteC= totalC *(totalWhite/completTotal)\n",
    "    expeectedWhiteD= totalD *(totalWhite/completTotal)\n",
    "\n",
    "    expeectedBlueA= totalA *(totalBlue/completTotal)\n",
    "    expeectedBlueB= totalB *(totalBlue/completTotal)\n",
    "    expeectedBlueC= totalC *(totalBlue/completTotal)\n",
    "    expeectedBlueD= totalD *(totalBlue/completTotal)\n",
    "\n",
    "    expeectedNoA= totalA *(totalNo/completTotal)\n",
    "    expeectedNoB= totalB *(totalNo/completTotal)\n",
    "    expeectedNoC= totalC *(totalNo/completTotal)\n",
    "    expeectedNoD= totalD *(totalNo/completTotal)\n",
    "\n",
    "    \n",
    "\n",
    "    hypothesisAWhite = ((WA-expeectedWhiteA)**2)/expeectedWhiteA\n",
    "    hypothesisBWhite = ((WB-expeectedWhiteB)**2)/expeectedWhiteB\n",
    "    hypothesisCWhite = ((WC-expeectedWhiteC)**2)/expeectedWhiteC\n",
    "    hypothesisDWhite = ((WD-expeectedWhiteD)**2)/expeectedWhiteD\n",
    "    hypothesisTotalWhite=hypothesisAWhite+hypothesisBWhite+hypothesisCWhite+hypothesisDWhite\n",
    "\n",
    "    hypothesisABlue = ((BA-expeectedBlueA)**2)/expeectedBlueA\n",
    "    hypothesisBBlue = ((BB-expeectedBlueB)**2)/expeectedBlueB\n",
    "    hypothesisCBlue = ((BC-expeectedBlueC)**2)/expeectedBlueC\n",
    "    hypothesisDBlue = ((BD-expeectedBlueD)**2)/expeectedBlueD\n",
    "    hypothesisTotalBlue=hypothesisABlue+hypothesisBBlue+hypothesisCBlue+hypothesisDBlue\n",
    "\n",
    "    hypothesisANo = ((NA-expeectedNoA)**2)/expeectedNoA\n",
    "    hypothesisBNo = ((NB-expeectedNoB)**2)/expeectedNoB\n",
    "    hypothesisCNo = ((NC-expeectedNoC)**2)/expeectedNoC\n",
    "    hypothesisDNo = ((ND-expeectedNoD)**2)/expeectedNoD\n",
    "    hypothesisTotalNo=hypothesisANo+hypothesisBNo+hypothesisCNo+hypothesisDNo\n",
    "\n",
    "    #Answer comes out as 24.57120\n",
    "    hypothesisTotal=hypothesisTotalWhite+hypothesisTotalBlue+hypothesisTotalNo\n",
    "     \n",
    "    formatted_hypothesis = \"{:.1f}\".format(hypothesisTotal)\n",
    "    print(formatted_hypothesis)\n",
    "\n",
    "\n",
    "   \n",
    "    \n",
    "chi()"
   ]
  },
  {
   "cell_type": "markdown",
   "metadata": {},
   "source": [
    "White stands for white collar\n",
    "Blue stands for blue collar\n",
    "No stands for no collar\n",
    "\n",
    "There is a other way of doing it if you use scopy.stats\n",
    "I think you have to use https://docs.scipy.org/doc/scipy/reference/generated/scipy.stats.combine_pvalues.html#scipy.stats.combine_pvalues this function. \n",
    "I couldn't figure it the parameter so i did it the long way.\n",
    "I did verify that Chi-squared value based on it is approximately 24.6. "
   ]
  }
 ],
 "metadata": {
  "kernelspec": {
   "display_name": "Python 3",
   "language": "python",
   "name": "python3"
  },
  "language_info": {
   "codemirror_mode": {
    "name": "ipython",
    "version": 3
   },
   "file_extension": ".py",
   "mimetype": "text/x-python",
   "name": "python",
   "nbconvert_exporter": "python",
   "pygments_lexer": "ipython3",
   "version": "3.8.3"
  }
 },
 "nbformat": 4,
 "nbformat_minor": 4
}
