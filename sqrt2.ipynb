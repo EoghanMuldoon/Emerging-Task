{
 "cells": [
  {
   "cell_type": "code",
   "execution_count": 7,
   "metadata": {},
   "outputs": [
    {
     "name": "stdout",
     "output_type": "stream",
     "text": [
      "1.414213562373089\n"
     ]
    }
   ],
   "source": [
    "def sqrt2():\n",
    "    ans = 1\n",
    "    decNum =0.1\n",
    "    numberOfLoop=0\n",
    "    for i in range(100):\n",
    "      while(ans*ans <2):\n",
    "        ans=ans +decNum\n",
    "        \n",
    "        numberOfLoop=numberOfLoop+1\n",
    "        if(numberOfLoop>=9):\n",
    "            break\n",
    "        \n",
    "      numberOfLoop=0\n",
    "      ans= ans-decNum\n",
    "      decNum = 0.1\n",
    "      for j in range(i):\n",
    "        decNum=decNum/10\n",
    "      #print(i)\n",
    "    print(ans)\n",
    "\n",
    "  \n",
    "\n",
    "sqrt2()"
   ]
  },
  {
   "cell_type": "code",
   "execution_count": null,
   "metadata": {},
   "outputs": [],
   "source": []
  }
 ],
 "metadata": {
  "kernelspec": {
   "display_name": "Python 3",
   "language": "python",
   "name": "python3"
  },
  "language_info": {
   "codemirror_mode": {
    "name": "ipython",
    "version": 3
   },
   "file_extension": ".py",
   "mimetype": "text/x-python",
   "name": "python",
   "nbconvert_exporter": "python",
   "pygments_lexer": "ipython3",
   "version": "3.8.3"
  }
 },
 "nbformat": 4,
 "nbformat_minor": 4
}
