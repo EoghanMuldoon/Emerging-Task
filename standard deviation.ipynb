{
 "cells": [
  {
   "cell_type": "markdown",
   "metadata": {},
   "source": [
    "Stdev.p is use when your data represents the entire population where STDEV.s is use when it is only a sample of the population.\n",
    "The sample values i use i got them here https://www.exceltip.com/statistical-formulas/how-to-use-excel-stdev-p-function.html.\n",
    "\n",
    "Also from the website they explain the difference better than i can go her it is \n",
    "\n",
    "\"Since STDEV.P function considers entire data, and some factors may dominate the result standard deviation. And since it will be taken as the standard deviation for everyone in data, even for minorities, this is called Biased Analysis. This is why this standard deviation is recommended to use only when an analysis is non-destructive.\n",
    "The STDEV.S or STDEV function is used on a small sample of the entire population, and we subtract one from the denominator (number of samples arguments). This is called non-biassed analysis of standard deviation. This is used when an analysis is destructive.\"\n",
    "\n"
   ]
  },
  {
   "cell_type": "code",
   "execution_count": 2,
   "metadata": {},
   "outputs": [
    {
     "name": "stdout",
     "output_type": "stream",
     "text": [
      "Using population calcution \n",
      "19.66313945570335\n",
      "\n",
      "Using sample calcution \n",
      "20.466044423849333\n",
      "\n",
      "\n",
      "Only useing a sample of the data\n",
      "Using population calcution \n",
      "18.968541207893548\n",
      "\n",
      "Using sample calcution \n",
      "20.77899580505917\n",
      "\n",
      "\n",
      "As you can see the sample formula is closer than the populaion when using sample of the data\n"
     ]
    }
   ],
   "source": [
    "import numpy as np\n",
    "\n",
    "def STDEV():\n",
    "    empWeights=[59,40,67,92,81,42,63,85,92,40,80,73,99]\n",
    "    empWeightsSample=[85,92,40,80,73,99]\n",
    "\n",
    "\n",
    "    STDEVP=np.sqrt(np.sum((empWeights - np.mean(empWeights))**2)/len(empWeights))\n",
    "    STDEVS=np.sqrt(np.sum((empWeights - np.mean(empWeights))**2)/(len(empWeights)-1))\n",
    "    print(\"Using population calcution \")\n",
    "    print(STDEVP)\n",
    "    print(\"\")\n",
    "    print(\"Using sample calcution \")\n",
    "    print(STDEVS)\n",
    "\n",
    "    print(\"\")\n",
    "    print(\"\")\n",
    "    print(\"Only useing a sample of the data\")\n",
    "    STDEVP=np.sqrt(np.sum((empWeightsSample - np.mean(empWeightsSample))**2)/len(empWeightsSample))\n",
    "    STDEVS=np.sqrt(np.sum((empWeightsSample - np.mean(empWeightsSample))**2)/(len(empWeightsSample)-1))\n",
    "    print(\"Using population calcution \")\n",
    "    print(STDEVP)\n",
    "    print(\"\")\n",
    "    print(\"Using sample calcution \")\n",
    "    print(STDEVS)\n",
    "    print(\"\")\n",
    "    print(\"\")\n",
    "    print(\"As you can see the sample formula is closer than the populaion when using sample of the data\")\n",
    "\n",
    "\n",
    "\n",
    "\n",
    "   \n",
    "\n",
    "STDEV()"
   ]
  },
  {
   "cell_type": "code",
   "execution_count": null,
   "metadata": {},
   "outputs": [],
   "source": []
  }
 ],
 "metadata": {
  "kernelspec": {
   "display_name": "Python 3",
   "language": "python",
   "name": "python3"
  },
  "language_info": {
   "codemirror_mode": {
    "name": "ipython",
    "version": 3
   },
   "file_extension": ".py",
   "mimetype": "text/x-python",
   "name": "python",
   "nbconvert_exporter": "python",
   "pygments_lexer": "ipython3",
   "version": "3.8.3"
  }
 },
 "nbformat": 4,
 "nbformat_minor": 4
}
